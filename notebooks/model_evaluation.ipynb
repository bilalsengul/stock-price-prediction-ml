{
 "cells": [
  {
   "cell_type": "markdown",
   "metadata": {},
   "source": [
    "# Stock Price Prediction Model - Performance Evaluation\n",
    "\n",
    "This notebook analyzes the performance of our trained LSTM model for stock price prediction."
   ]
  },
  {
   "cell_type": "code",
   "execution_count": null,
   "metadata": {},
   "outputs": [],
   "source": [
    "import sys\n",
    "sys.path.append('..')\n",
    "\n",
    "import torch\n",
    "import pandas as pd\n",
    "import numpy as np\n",
    "import matplotlib.pyplot as plt\n",
    "import seaborn as sns\n",
    "from sklearn.metrics import mean_squared_error, mean_absolute_error, r2_score\n",
    "\n",
    "from src.models.lstm_model import StockPriceLSTM\n",
    "from src.evaluation.model_evaluator import ModelEvaluator"
   ]
  },
  {
   "cell_type": "markdown",
   "metadata": {},
   "source": [
    "## 1. Data Loading and Preparation"
   ]
  },
  {
   "cell_type": "code",
   "execution_count": null,
   "metadata": {},
   "outputs": [],
   "source": [
    "# Load and examine test data\n",
    "test_data = pd.read_csv('../data/processed/test_data.csv')\n",
    "\n",
    "print(\"Dataset Info:\")\n",
    "print(test_data.info())\n",
    "\n",
    "print(\"\n",
    "First few rows:\")\n",
    "print(test_data.head())"
   ]
  },
  {
   "cell_type": "markdown",
   "metadata": {},
   "source": [
    "## 2. Model Evaluation"
   ]
  },
  {
   "cell_type": "code",
   "execution_count": null,
   "metadata": {},
   "outputs": [],
   "source": [
    "# Load model and generate predictions\n",
    "model = StockPriceLSTM.load_model('../models/final_model.pth')\n",
    "model.eval()\n",
    "\n",
    "evaluator = ModelEvaluator(model)\n",
    "y_true, y_pred = evaluator.get_predictions(test_data)\n",
    "\n",
    "# Calculate and display metrics\n",
    "metrics = evaluator.calculate_metrics(y_true, y_pred)\n",
    "print(\"Model Performance Metrics:\")\n",
    "for metric, value in metrics.items():\n",
    "    print(f\"{metric:15s}: {value:.4f}\")"
   ]
  }
 ],
 "metadata": {
  "kernelspec": {
   "display_name": "Python 3",
   "language": "python",
   "name": "python3"
  },
  "language_info": {
   "codemirror_mode": {
    "name": "ipython",
    "version": 3
   },
   "file_extension": ".py",
   "mimetype": "text/x-python",
   "name": "python",
   "nbconvert_exporter": "python",
   "pygments_lexer": "ipython3",
   "version": "3.13.0"
  }
 },
 "nbformat": 4,
 "nbformat_minor": 4
}
